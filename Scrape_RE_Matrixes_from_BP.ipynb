{
  "nbformat": 4,
  "nbformat_minor": 0,
  "metadata": {
    "colab": {
      "provenance": [],
      "authorship_tag": "ABX9TyMh4TLPUKuDmuAhl4QDFlPg",
      "include_colab_link": true
    },
    "kernelspec": {
      "name": "python3",
      "display_name": "Python 3"
    },
    "language_info": {
      "name": "python"
    }
  },
  "cells": [
    {
      "cell_type": "markdown",
      "metadata": {
        "id": "view-in-github",
        "colab_type": "text"
      },
      "source": [
        "<a href=\"https://colab.research.google.com/github/Ryan-R-Davis/Baseball-Steals/blob/main/Scrape_RE_Matrixes_from_BP.ipynb\" target=\"_parent\"><img src=\"https://colab.research.google.com/assets/colab-badge.svg\" alt=\"Open In Colab\"/></a>"
      ]
    },
    {
      "cell_type": "code",
      "execution_count": null,
      "metadata": {
        "id": "FqYg9SbARg-o"
      },
      "outputs": [],
      "source": [
        "from bs4 import BeautifulSoup\n",
        "from urllib.request import urlopen\n",
        "import pandas as pd\n",
        "!pip install MechanicalSoup\n",
        "import mechanicalsoup\n",
        "import time\n",
        "from google.colab import drive\n",
        "\n",
        "drive.mount('/content/drive')\n",
        "path = '/content/drive/My Drive/Portfolio/Baseball Steals/Clean Data.csv'\n",
        "\n"
      ]
    },
    {
      "cell_type": "code",
      "source": [
        "years = range(1950, 2020)\n",
        "url = \"https://legacy.baseballprospectus.com/sortable/index.php?cid=2800999\"\n",
        "browser = mechanicalsoup.Browser()\n",
        "page = browser.get(url)\n",
        "if page.status_code == 200:\n",
        "  print(\"Page loaded sucessfully\")\n",
        "else:\n",
        "  print(\"Page failed to load\")"
      ],
      "metadata": {
        "id": "OFYG5YM-GjDz"
      },
      "execution_count": null,
      "outputs": []
    },
    {
      "cell_type": "code",
      "source": [
        "cleanData = []\n",
        "cleanRow = []\n",
        "cols = [\"Year\", \"BaseOuts\", \"ExpectedRuns\"]\n",
        "\n",
        "for year in years:\n",
        "  #print(year)\n",
        "  time.sleep(.5) # small delay in order to keep from overloading the server\n",
        "  url = \"https://legacy.baseballprospectus.com/sortable/index.php?cid=2800999\"\n",
        "  browser = mechanicalsoup.Browser()\n",
        "  page = browser.get(url)\n",
        "  form = page.soup.select(\"form\")[2]\n",
        "  form.select(\"option\")[0][\"value\"] = year\n",
        "  page = browser.submit(form, page.url)\n",
        "  Tables = page.soup.find_all(\"table\")\n",
        "  for i in range(9,63,7): # Selects desired columns from one/each row of the raw table\n",
        "    row = Tables[4].find_all(\"td\")[i:i+5]\n",
        "    for ii in range(0,3): # for each Base+Outs situation creates an individual row\n",
        "      cleanRow.append(row[0].text) # starts row with the year\n",
        "      cleanRow.append(row[1].text + f\"Outs{ii}\") # combines the base and outs into one variable, BaseOuts. adds it to the row\n",
        "      cleanRow.append(float(row[ii+2].text)) # adds the numeric value for the expected runs in that situation to the row. \n",
        "      #print(cleanRow)\n",
        "      cleanData.append(cleanRow)\n",
        "      cleanRow = []\n",
        "\n",
        "df = pd.DataFrame(cleanData, columns=cols)\n",
        "df.set_index('Year', inplace=True)\n",
        "print(df)"
      ],
      "metadata": {
        "id": "1E8N8ShBNy3d"
      },
      "execution_count": null,
      "outputs": []
    },
    {
      "cell_type": "code",
      "source": [
        "with open(path, 'w', encoding = 'utf-8-sig') as f:\n",
        "  df.to_csv(f)"
      ],
      "metadata": {
        "id": "f8ptVbCQ1-gJ"
      },
      "execution_count": 4,
      "outputs": []
    }
  ]
}