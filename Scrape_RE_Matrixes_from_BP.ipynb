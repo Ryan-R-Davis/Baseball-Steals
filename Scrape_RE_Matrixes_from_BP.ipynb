{
  "nbformat": 4,
  "nbformat_minor": 0,
  "metadata": {
    "colab": {
      "provenance": [],
      "authorship_tag": "ABX9TyPh6cohxu39guqgtihdsVd3",
      "include_colab_link": true
    },
    "kernelspec": {
      "name": "python3",
      "display_name": "Python 3"
    },
    "language_info": {
      "name": "python"
    }
  },
  "cells": [
    {
      "cell_type": "markdown",
      "metadata": {
        "id": "view-in-github",
        "colab_type": "text"
      },
      "source": [
        "<a href=\"https://colab.research.google.com/github/Ryan-R-Davis/Baseball-Steals/blob/main/Scrape_RE_Matrixes_from_BP.ipynb\" target=\"_parent\"><img src=\"https://colab.research.google.com/assets/colab-badge.svg\" alt=\"Open In Colab\"/></a>"
      ]
    },
    {
      "cell_type": "code",
      "execution_count": 1,
      "metadata": {
        "id": "FqYg9SbARg-o",
        "colab": {
          "base_uri": "https://localhost:8080/"
        },
        "outputId": "ce923c15-ce0e-4fda-90bc-0e0030983187"
      },
      "outputs": [
        {
          "output_type": "stream",
          "name": "stdout",
          "text": [
            "Looking in indexes: https://pypi.org/simple, https://us-python.pkg.dev/colab-wheels/public/simple/\n",
            "Requirement already satisfied: MechanicalSoup in /usr/local/lib/python3.9/dist-packages (1.2.0)\n",
            "Requirement already satisfied: lxml in /usr/local/lib/python3.9/dist-packages (from MechanicalSoup) (4.9.2)\n",
            "Requirement already satisfied: beautifulsoup4>=4.7 in /usr/local/lib/python3.9/dist-packages (from MechanicalSoup) (4.11.2)\n",
            "Requirement already satisfied: requests>=2.22.0 in /usr/local/lib/python3.9/dist-packages (from MechanicalSoup) (2.27.1)\n",
            "Requirement already satisfied: soupsieve>1.2 in /usr/local/lib/python3.9/dist-packages (from beautifulsoup4>=4.7->MechanicalSoup) (2.4)\n",
            "Requirement already satisfied: charset-normalizer~=2.0.0 in /usr/local/lib/python3.9/dist-packages (from requests>=2.22.0->MechanicalSoup) (2.0.12)\n",
            "Requirement already satisfied: idna<4,>=2.5 in /usr/local/lib/python3.9/dist-packages (from requests>=2.22.0->MechanicalSoup) (3.4)\n",
            "Requirement already satisfied: urllib3<1.27,>=1.21.1 in /usr/local/lib/python3.9/dist-packages (from requests>=2.22.0->MechanicalSoup) (1.26.15)\n",
            "Requirement already satisfied: certifi>=2017.4.17 in /usr/local/lib/python3.9/dist-packages (from requests>=2.22.0->MechanicalSoup) (2022.12.7)\n",
            "Drive already mounted at /content/drive; to attempt to forcibly remount, call drive.mount(\"/content/drive\", force_remount=True).\n"
          ]
        }
      ],
      "source": [
        "from bs4 import BeautifulSoup\n",
        "from urllib.request import urlopen\n",
        "import pandas as pd\n",
        "!pip install MechanicalSoup\n",
        "import mechanicalsoup\n",
        "import time\n",
        "from google.colab import drive\n",
        "\n",
        "drive.mount('/content/drive')\n",
        "path = '/content/drive/My Drive/Portfolio/Baseball Steals/Clean Data.csv'\n",
        "\n"
      ]
    },
    {
      "cell_type": "code",
      "source": [
        "years = range(1950, 2020)\n",
        "url = \"https://legacy.baseballprospectus.com/sortable/index.php?cid=2800999\"\n",
        "browser = mechanicalsoup.Browser()\n",
        "page = browser.get(url)\n",
        "if page.status_code == 200:\n",
        "  print(\"Page loaded sucessfully\")\n",
        "else:\n",
        "  print(\"Page failed to load\")"
      ],
      "metadata": {
        "colab": {
          "base_uri": "https://localhost:8080/"
        },
        "id": "OFYG5YM-GjDz",
        "outputId": "8e214d1c-080c-48dd-becc-de33f6115074"
      },
      "execution_count": 2,
      "outputs": [
        {
          "output_type": "stream",
          "name": "stdout",
          "text": [
            "Page loaded sucessfully\n"
          ]
        }
      ]
    },
    {
      "cell_type": "code",
      "source": [
        "cleanData = []\n",
        "cleanRow = []\n",
        "cols = [\"Year\", \"BaseOuts\", \"ExpectedRuns\"]\n",
        "\n",
        "for year in years:\n",
        "  #print(year)\n",
        "  time.sleep(.5) # small delay in order to keep from overloading the server\n",
        "  url = \"https://legacy.baseballprospectus.com/sortable/index.php?cid=2800999\"\n",
        "  browser = mechanicalsoup.Browser()\n",
        "  page = browser.get(url)\n",
        "  form = page.soup.select(\"form\")[2]\n",
        "  form.select(\"option\")[0][\"value\"] = year\n",
        "  page = browser.submit(form, page.url)\n",
        "  Tables = page.soup.find_all(\"table\")\n",
        "  for i in range(9,63,7): # Selects desired columns from one/each row of the raw table\n",
        "    row = Tables[4].find_all(\"td\")[i:i+5]\n",
        "    for ii in range(0,3): # for each Base+Outs situation creates an individual row\n",
        "      cleanRow.append(row[0].text) # starts row with the year\n",
        "      cleanRow.append(row[1].text + f\"Outs{ii}\") # combines the base and outs into one variable, BaseOuts. adds it to the row\n",
        "      cleanRow.append(float(row[ii+2].text)) # adds the numeric value for the expected runs in that situation to the row. \n",
        "      #print(cleanRow)\n",
        "      cleanData.append(cleanRow)\n",
        "      cleanRow = []\n",
        "\n",
        "df = pd.DataFrame(cleanData, columns=cols)\n",
        "df.set_index('Year', inplace=True)\n",
        "print(df)"
      ],
      "metadata": {
        "colab": {
          "base_uri": "https://localhost:8080/"
        },
        "id": "1E8N8ShBNy3d",
        "outputId": "c39a2ca8-64bf-41e9-b258-cd2e46471dd2"
      },
      "execution_count": 3,
      "outputs": [
        {
          "output_type": "stream",
          "name": "stdout",
          "text": [
            "1950\n",
            "1951\n",
            "1952\n",
            "1953\n",
            "1954\n",
            "1955\n",
            "1956\n",
            "1957\n",
            "1958\n",
            "1959\n",
            "1960\n",
            "1961\n",
            "1962\n",
            "1963\n",
            "1964\n",
            "1965\n",
            "1966\n",
            "1967\n",
            "1968\n",
            "1969\n",
            "1970\n",
            "1971\n",
            "1972\n",
            "1973\n",
            "1974\n",
            "1975\n",
            "1976\n",
            "1977\n",
            "1978\n",
            "1979\n",
            "1980\n",
            "1981\n",
            "1982\n",
            "1983\n",
            "1984\n",
            "1985\n",
            "1986\n",
            "1987\n",
            "1988\n",
            "1989\n",
            "1990\n",
            "1991\n",
            "1992\n",
            "1993\n",
            "1994\n",
            "1995\n",
            "1996\n",
            "1997\n",
            "1998\n",
            "1999\n",
            "2000\n",
            "2001\n",
            "2002\n",
            "2003\n",
            "2004\n",
            "2005\n",
            "2006\n",
            "2007\n",
            "2008\n",
            "2009\n",
            "2010\n",
            "2011\n",
            "2012\n",
            "2013\n",
            "2014\n",
            "2015\n",
            "2016\n",
            "2017\n",
            "2018\n",
            "2019\n",
            "      BaseOuts  ExpectedRuns\n",
            "Year                        \n",
            "1950  000Outs0        0.5556\n",
            "1950  000Outs1        0.3078\n",
            "1950  000Outs2        0.1131\n",
            "1950  003Outs0        1.3618\n",
            "1950  003Outs1        0.9663\n",
            "...        ...           ...\n",
            "2019  120Outs1        0.9792\n",
            "2019  120Outs2        0.4666\n",
            "2019  123Outs0        2.3617\n",
            "2019  123Outs1        1.6337\n",
            "2019  123Outs2        0.7426\n",
            "\n",
            "[1680 rows x 2 columns]\n"
          ]
        }
      ]
    },
    {
      "cell_type": "code",
      "source": [
        "with open(path, 'w', encoding = 'utf-8-sig') as f:\n",
        "  df.to_csv(f)"
      ],
      "metadata": {
        "id": "f8ptVbCQ1-gJ"
      },
      "execution_count": 5,
      "outputs": []
    },
    {
      "cell_type": "code",
      "source": [],
      "metadata": {
        "id": "rePtFgMmtvRr"
      },
      "execution_count": null,
      "outputs": []
    }
  ]
}